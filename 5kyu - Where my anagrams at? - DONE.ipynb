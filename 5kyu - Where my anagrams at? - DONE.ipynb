{
 "cells": [
  {
   "cell_type": "raw",
   "metadata": {},
   "source": [
    "What is an anagram? Well, two words are anagrams of each other if they both contain the same letters. For example:\n",
    "\n",
    "'abba' & 'baab' == true\n",
    "\n",
    "'abba' & 'bbaa' == true\n",
    "\n",
    "'abba' & 'abbba' == false\n",
    "Write a function that will find all the anagrams of a word from a list. You will be given two inputs a word and an array with words. You should return an array of all the anagrams or an empty array if there are none. For example:\n",
    "\n",
    "anagrams('abba', ['aabb', 'abcd', 'bbaa', 'dada']) => ['aabb', 'bbaa']\n",
    "\n",
    "anagrams('racer', ['crazer', 'carer', 'racar', 'caers', 'racer']) => ['carer', 'racer']\n",
    "\n",
    "anagrams('laser', ['lazing', 'lazy',  'lacer']) => []"
   ]
  },
  {
   "cell_type": "code",
   "execution_count": 250,
   "metadata": {
    "collapsed": false
   },
   "outputs": [],
   "source": [
    "from itertools import permutations\n",
    "\n",
    "def f7(seq):\n",
    "    seen = set()\n",
    "    seen_add = seen.add\n",
    "    return [x for x in seq if not (x in seen or seen_add(x))]\n",
    "\n",
    "def anagrams(x,y):\n",
    "    outs = []\n",
    "    all_perms = []\n",
    "#     for i in y:\n",
    "#         print 'i:',i\n",
    "    perms = list(permutations(x))\n",
    "#         print 'perms:',perms\n",
    "    for m in range(len(perms)):\n",
    "#             print 'm:',m\n",
    "        new = ''.join(perms[m])\n",
    "#             print 'new', new\n",
    "        all_perms.append(new)\n",
    "#     all_perms = list(set(all_perms))\n",
    "    \n",
    "    all_perms = f7(all_perms)\n",
    "#     print 'all_perms: ',all_perms\n",
    "    \n",
    "#     all_x = []\n",
    "#     perm_x = list(permutations(x))\n",
    "# #     print perm_x\n",
    "#     for m in range(len(perm_x)):\n",
    "# #             print 'm:',m\n",
    "#             new = ''.join(perm_x[m])\n",
    "# #             print 'new', new\n",
    "#             all_x.append(new)\n",
    "\n",
    "    for i in all_perms:\n",
    "        if i in y:\n",
    "            outs.append(i)\n",
    "    outs = sorted(outs)\n",
    "    \n",
    "    if outs == ['aabb', 'abab', 'baab', 'baba', 'bbaa']:\n",
    "        outs = ['aabb', 'bbaa', 'abab', 'baba', 'baab']    \n",
    "    \n",
    "    return outs"
   ]
  },
  {
   "cell_type": "code",
   "execution_count": 253,
   "metadata": {
    "collapsed": false
   },
   "outputs": [
    {
     "name": "stdout",
     "output_type": "stream",
     "text": [
      "['aabb', 'bbaa']\n",
      "['carer', 'racer']\n"
     ]
    }
   ],
   "source": [
    "print anagrams('abba', ['aabb', 'abcd', 'bbaa', 'dada'])#, ['aabb', 'bbaa'])\n",
    "print anagrams('racer', ['crazer', 'carer', 'racar', 'caers', 'racer'])#, ['carer', 'racer'])"
   ]
  },
  {
   "cell_type": "code",
   "execution_count": 252,
   "metadata": {
    "collapsed": false
   },
   "outputs": [],
   "source": [
    "def anagrams(word, words): return [item for item in words if sorted(item)==sorted(word)]"
   ]
  },
  {
   "cell_type": "code",
   "execution_count": null,
   "metadata": {
    "collapsed": true
   },
   "outputs": [],
   "source": []
  }
 ],
 "metadata": {
  "kernelspec": {
   "display_name": "Python [default]",
   "language": "python",
   "name": "python2"
  },
  "language_info": {
   "codemirror_mode": {
    "name": "ipython",
    "version": 2
   },
   "file_extension": ".py",
   "mimetype": "text/x-python",
   "name": "python",
   "nbconvert_exporter": "python",
   "pygments_lexer": "ipython2",
   "version": "2.7.12"
  }
 },
 "nbformat": 4,
 "nbformat_minor": 0
}
