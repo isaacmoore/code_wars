{
 "cells": [
  {
   "cell_type": "markdown",
   "metadata": {},
   "source": [
    "A child plays with a ball on the nth floor of a big building the height of which is known  \n",
    ">(float parameter \"h\" in meters, h > 0).  \n",
    "\n",
    "He lets out the ball. The ball rebounds for example to two-thirds  \n",
    ">(float parameter \"bounce\", 0 < bounce < 1)  \n",
    "\n",
    "of its height.  \n",
    "His mother looks out of a window that is 1.5 meters from the ground  \n",
    ">(float parameters window < h).  \n",
    "\n",
    "How many times will the mother see the ball either falling or bouncing in front of the window  \n",
    ">(return a positive integer unless conditions are not fulfilled in which case return -1) ?  \n",
    "\n",
    "Note: You will admit that the ball can only be seen if the height of the rebouncing ball is stricty greater than the   window parameter.\n",
    "Example:  \n",
    "h = 3, bounce = 0.66, window = 1.5, result is 3  \n",
    "h = 3, bounce = 1, window = 1.5, result is -1  "
   ]
  },
  {
   "cell_type": "code",
   "execution_count": 137,
   "metadata": {
    "collapsed": false
   },
   "outputs": [],
   "source": [
    "def bouncingBall(h, bounce, window):\n",
    "    if h <= 0:\n",
    "        return -1\n",
    "    elif bounce <= 0 or bounce >= 1:\n",
    "        return -1\n",
    "    elif window >= h:\n",
    "        return -1\n",
    "    elif bounce >= window:\n",
    "        return -1\n",
    "    else:\n",
    "        #=== ball going down\n",
    "        count = 1\n",
    "        #=== bounce and going up\n",
    "        backup = bounce*h\n",
    "        while backup > bounce:\n",
    "            if backup >= window:\n",
    "                count += 2\n",
    "            backup *= bounce\n",
    "#             print backup\n",
    "#             print count\n",
    "        #=== ball going back down\n",
    "        return count"
   ]
  },
  {
   "cell_type": "code",
   "execution_count": 138,
   "metadata": {
    "collapsed": false
   },
   "outputs": [
    {
     "data": {
      "text/plain": [
       "3"
      ]
     },
     "execution_count": 138,
     "metadata": {},
     "output_type": "execute_result"
    }
   ],
   "source": [
    "bouncingBall(3, 0.66, 1.5)"
   ]
  },
  {
   "cell_type": "code",
   "execution_count": 139,
   "metadata": {
    "collapsed": false
   },
   "outputs": [
    {
     "name": "stdout",
     "output_type": "stream",
     "text": [
      "True\n",
      "True\n",
      "True\n"
     ]
    }
   ],
   "source": [
    "print bouncingBall(3, 0.66, 1.5) == 3\n",
    "print bouncingBall(3, 1, 1.5) ==  -1\n",
    "print bouncingBall(30, 0.66, 1.5) == 15"
   ]
  },
  {
   "cell_type": "code",
   "execution_count": null,
   "metadata": {
    "collapsed": true
   },
   "outputs": [],
   "source": []
  },
  {
   "cell_type": "code",
   "execution_count": null,
   "metadata": {
    "collapsed": true
   },
   "outputs": [],
   "source": []
  },
  {
   "cell_type": "code",
   "execution_count": null,
   "metadata": {
    "collapsed": true
   },
   "outputs": [],
   "source": []
  },
  {
   "cell_type": "code",
   "execution_count": null,
   "metadata": {
    "collapsed": true
   },
   "outputs": [],
   "source": []
  },
  {
   "cell_type": "code",
   "execution_count": null,
   "metadata": {
    "collapsed": true
   },
   "outputs": [],
   "source": []
  },
  {
   "cell_type": "code",
   "execution_count": null,
   "metadata": {
    "collapsed": true
   },
   "outputs": [],
   "source": []
  },
  {
   "cell_type": "code",
   "execution_count": null,
   "metadata": {
    "collapsed": true
   },
   "outputs": [],
   "source": []
  }
 ],
 "metadata": {
  "kernelspec": {
   "display_name": "Python [default]",
   "language": "python",
   "name": "python2"
  },
  "language_info": {
   "codemirror_mode": {
    "name": "ipython",
    "version": 2
   },
   "file_extension": ".py",
   "mimetype": "text/x-python",
   "name": "python",
   "nbconvert_exporter": "python",
   "pygments_lexer": "ipython2",
   "version": "2.7.12"
  }
 },
 "nbformat": 4,
 "nbformat_minor": 0
}
