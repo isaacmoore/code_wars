{
 "cells": [
  {
   "cell_type": "raw",
   "metadata": {},
   "source": [
    "Your goal in this coding challenge is to implement an difference function, which subtracts one list from another.\n",
    "\n",
    "It should remove all values from list a, which are present in list b.\n",
    "\n",
    "array_diff([1,2],[1]) == [2]\n",
    "If a value is present in b, all of its occurrences must be removed from the other:\n",
    "\n",
    "array_diff([1,2,2,2,3],[2]) == [1,3]"
   ]
  },
  {
   "cell_type": "code",
   "execution_count": 4,
   "metadata": {
    "collapsed": true
   },
   "outputs": [],
   "source": [
    "def array_diff(a, b):\n",
    "    outs = []\n",
    "    if len(b) == 0:\n",
    "        return a\n",
    "    for i in a:\n",
    "            if i not in b:\n",
    "                outs.append(i)\n",
    "    return list(outs)"
   ]
  },
  {
   "cell_type": "code",
   "execution_count": 7,
   "metadata": {
    "collapsed": false
   },
   "outputs": [
    {
     "name": "stdout",
     "output_type": "stream",
     "text": [
      "True\n",
      "True\n",
      "True\n",
      "True\n",
      "True\n",
      "True\n"
     ]
    }
   ],
   "source": [
    "print array_diff([1,2], [1]) == [2]\n",
    "print array_diff([1,2,2], [1]) == [2,2]\n",
    "print array_diff([1,2,2], [2]) == [1]\n",
    "print array_diff([1,2,2], []) == [1,2,2]\n",
    "array_diff([1,2,2,2,3],[2]) == [1,3]\n",
    "print array_diff([], [1,2]) == []\n",
    "print array_diff([-6, 4, 8, -3, 1, 12, -8, 15, -18, -12, -13, -14, 13, -15], \n",
    "           [13, -10, -8, -12, 11, 18, -19, -15, 1, 1, 5, -10, 3, 3]) == [-6, 4, 8, -3, 12, 15, -18, -13, -14]"
   ]
  },
  {
   "cell_type": "code",
   "execution_count": null,
   "metadata": {
    "collapsed": true
   },
   "outputs": [],
   "source": []
  }
 ],
 "metadata": {
  "kernelspec": {
   "display_name": "Python [default]",
   "language": "python",
   "name": "python2"
  },
  "language_info": {
   "codemirror_mode": {
    "name": "ipython",
    "version": 2
   },
   "file_extension": ".py",
   "mimetype": "text/x-python",
   "name": "python",
   "nbconvert_exporter": "python",
   "pygments_lexer": "ipython2",
   "version": "2.7.12"
  }
 },
 "nbformat": 4,
 "nbformat_minor": 0
}
