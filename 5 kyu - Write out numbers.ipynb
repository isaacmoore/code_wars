{
 "cells": [
  {
   "cell_type": "raw",
   "metadata": {},
   "source": [
    "Create a function that transforms any positive number to a string representing the number in words. The function should work for all numbers between 0 and 999999.\n",
    "\n",
    "For example,\n",
    "\n",
    "// number2words(0) should return \"zero\"\n",
    "\n",
    "// number2words(1) should return \"one\"\n",
    "\n",
    "// number2words(9) should return \"nine\"\n",
    "\n",
    "// number2words(10) should return \"ten\"\n",
    "\n",
    "// number2words(17) should return \"seventeen\"\n",
    "\n",
    "// number2words(20) should return \"twenty\"\n",
    "\n",
    "// number2words(21) should return \"twenty-one\"\n",
    "\n",
    "// number2words(45) should return \"forty-five\"\n",
    "\n",
    "// number2words(80) should return \"eighty\"\n",
    "\n",
    "// number2words(99) should return \"ninety-nine\"\n",
    "\n",
    "// number2words(100) should return \"one hundred\"\n",
    "\n",
    "// number2words(301) should return \"three hundred one\"\n",
    "\n",
    "// number2words(799) should return \"seven hundred ninety-nine\"\n",
    "\n",
    "// number2words(800) should return \"eight hundred\"\n",
    "\n",
    "// number2words(950) should return \"nine hundred fifty\"\n",
    "\n",
    "// number2words(1000) should return \"one thousand\"\n",
    "\n",
    "// number2words(1002) should return \"one thousand two\"\n",
    "\n",
    "// number2words(3051) should return \"three thousand fifty-one\"\n",
    "\n",
    "// number2words(7200) should return \"seven thousand two hundred\"\n",
    "\n",
    "// number2words(7219) should return \"seven thousand two hundred nineteen\"\n",
    "\n",
    "// number2words(8330) should return \"eight thousand three hundred thirty\"\n",
    "\n",
    "// number2words(99999) should return \"ninety-nine thousand nine hundred ninety-nine\"\n",
    "\n",
    "// number2words(888888) should return \"eight hundred eighty-eight thousand eight hundred eighty-eight\""
   ]
  },
  {
   "cell_type": "code",
   "execution_count": 6,
   "metadata": {
    "collapsed": true
   },
   "outputs": [],
   "source": [
    "def number2words(n):\n",
    "    \"\"\" works for numbers between 0 and 999999 \"\"\"\n",
    "    ones = {0: 'zero',1: 'one',2: 'two',3: 'three',4: 'four',5: 'five',6: 'six',7: 'seven',8: 'eight',9: 'nine'}\n",
    "    if n > \n",
    "    return tens[n]"
   ]
  },
  {
   "cell_type": "code",
   "execution_count": 10,
   "metadata": {
    "collapsed": false
   },
   "outputs": [
    {
     "name": "stdout",
     "output_type": "stream",
     "text": [
      "True\n",
      "True\n",
      "True\n",
      "True\n"
     ]
    }
   ],
   "source": [
    "print number2words(0) == \"zero\"\n",
    "# print number2words(1) == \"one\"\n",
    "# print number2words(8) == \"eight\"\n",
    "# print number2words(10) == \"ten\"\n",
    "# print number2words(19) == \"nineteen\"\n",
    "# print number2words(20) == \"twenty\"\n",
    "# print number2words(22) == \"twenty-two\"\n",
    "# print number2words(54) == \"fifty-four\"\n",
    "# print number2words(80) == \"eighty\"\n",
    "# print number2words(98) == \"ninety-eight\"\n",
    "# print number2words(100) == \"one hundred\"\n",
    "# print number2words(301) == \"three hundred one\"\n",
    "# print number2words(793) == \"seven hundred ninety-three\"\n",
    "# print number2words(800) == \"eight hundred\"\n",
    "# print number2words(650) == \"six hundred fifty\"\n",
    "# print number2words(1000) == \"one thousand\"\n",
    "# print number2words(1003) == \"one thousand three\"\n",
    "# print number2words(8330) == \"eight thousand three hundred thirty\""
   ]
  },
  {
   "cell_type": "code",
   "execution_count": 9,
   "metadata": {
    "collapsed": false
   },
   "outputs": [
    {
     "name": "stdout",
     "output_type": "stream",
     "text": [
      "eight\n"
     ]
    }
   ],
   "source": [
    "print number2words(8)"
   ]
  },
  {
   "cell_type": "code",
   "execution_count": null,
   "metadata": {
    "collapsed": true
   },
   "outputs": [],
   "source": []
  }
 ],
 "metadata": {
  "kernelspec": {
   "display_name": "Python [default]",
   "language": "python",
   "name": "python2"
  },
  "language_info": {
   "codemirror_mode": {
    "name": "ipython",
    "version": 2
   },
   "file_extension": ".py",
   "mimetype": "text/x-python",
   "name": "python",
   "nbconvert_exporter": "python",
   "pygments_lexer": "ipython2",
   "version": "2.7.12"
  }
 },
 "nbformat": 4,
 "nbformat_minor": 0
}
