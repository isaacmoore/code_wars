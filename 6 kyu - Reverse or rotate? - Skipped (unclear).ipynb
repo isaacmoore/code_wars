{
 "cells": [
  {
   "cell_type": "raw",
   "metadata": {},
   "source": [
    "The input is a string str of digits. Cut the string into chunks (a chunk here is a substring of the initial string) of size sz (ignore the last chunk if its size is less than sz).\n",
    "\n",
    "If a chunk represents an integer such as the sum of the cubes of its digits is divisible by 2, reverse that chunk; otherwise rotate it to the left by one position. Put together these modified chunks and return the result as a string.\n",
    "\n",
    "If\n",
    "\n",
    "sz is <= 0 or if str is empty return \"\"\n",
    "sz is greater (>) than the length of str it is impossible to take a chunk of size sz hence return \"\"."
   ]
  },
  {
   "cell_type": "code",
   "execution_count": 19,
   "metadata": {},
   "outputs": [],
   "source": [
    "def revrot(strng, sz):\n",
    "    if sz <= 0:\n",
    "        return(\"\")\n",
    "    elif str == \"\":\n",
    "        return(\"\")\n",
    "    elif sz > len(strng):\n",
    "        return(\"\")\n",
    "    else:\n",
    "        strng[:sz]"
   ]
  },
  {
   "cell_type": "code",
   "execution_count": 20,
   "metadata": {},
   "outputs": [
    {
     "name": "stdout",
     "output_type": "stream",
     "text": [
      "False\n",
      "None\n"
     ]
    }
   ],
   "source": [
    "print revrot(\"123456987654\", 6) == \"234561876549\"\n",
    "print revrot(\"123456987654\", 6)"
   ]
  },
  {
   "cell_type": "code",
   "execution_count": 21,
   "metadata": {},
   "outputs": [
    {
     "data": {
      "text/plain": [
       "'123456'"
      ]
     },
     "execution_count": 21,
     "metadata": {},
     "output_type": "execute_result"
    }
   ],
   "source": [
    "\"123456987654\"[:6]"
   ]
  },
  {
   "cell_type": "code",
   "execution_count": null,
   "metadata": {
    "collapsed": true
   },
   "outputs": [],
   "source": []
  },
  {
   "cell_type": "code",
   "execution_count": null,
   "metadata": {
    "collapsed": true
   },
   "outputs": [],
   "source": []
  },
  {
   "cell_type": "code",
   "execution_count": null,
   "metadata": {
    "collapsed": true
   },
   "outputs": [],
   "source": []
  },
  {
   "cell_type": "code",
   "execution_count": null,
   "metadata": {
    "collapsed": true
   },
   "outputs": [],
   "source": []
  },
  {
   "cell_type": "code",
   "execution_count": null,
   "metadata": {
    "collapsed": true
   },
   "outputs": [],
   "source": []
  },
  {
   "cell_type": "code",
   "execution_count": 22,
   "metadata": {},
   "outputs": [
    {
     "name": "stdout",
     "output_type": "stream",
     "text": [
      "False\n",
      "False\n",
      "False\n",
      "False\n",
      "False\n",
      "False\n",
      "True\n",
      "True\n",
      "False\n"
     ]
    }
   ],
   "source": [
    "#Examples:\n",
    "print revrot(\"123456987654\", 6) == \"234561876549\"\n",
    "print revrot(\"123456987653\", 6) == \"234561356789\"\n",
    "print revrot(\"66443875\", 4) == \"44668753\"\n",
    "print revrot(\"66443875\", 8) == \"64438756\"\n",
    "print revrot(\"664438769\", 8) == \"67834466\"\n",
    "print revrot(\"123456779\", 8) == \"23456771\"\n",
    "print revrot(\"\", 8) == \"\"\n",
    "print revrot(\"123456779\", 0) == \"\" \n",
    "print revrot(\"563000655734469485\", 4) == \"0365065073456944\""
   ]
  },
  {
   "cell_type": "code",
   "execution_count": null,
   "metadata": {
    "collapsed": true
   },
   "outputs": [],
   "source": []
  }
 ],
 "metadata": {
  "kernelspec": {
   "display_name": "Python 2",
   "language": "python",
   "name": "python2"
  },
  "language_info": {
   "codemirror_mode": {
    "name": "ipython",
    "version": 2
   },
   "file_extension": ".py",
   "mimetype": "text/x-python",
   "name": "python",
   "nbconvert_exporter": "python",
   "pygments_lexer": "ipython2",
   "version": "2.7.13"
  }
 },
 "nbformat": 4,
 "nbformat_minor": 2
}
