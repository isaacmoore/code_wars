{
 "cells": [
  {
   "cell_type": "raw",
   "metadata": {},
   "source": [
    "The goal of this exercise is to convert a string to a new string where each character in the new string is '(' if that character appears only once in the original string, or ')' if that character appears more than once in the original string. Ignore capitalization when determining if a character is a duplicate.\n",
    "\n",
    "Examples:\n",
    "\n",
    "\"din\" => \"(((\"\n",
    "\n",
    "\"recede\" => \"()()()\"\n",
    "\n",
    "\"Success\" => \")())())\"\n",
    "\n",
    "\"(( @\" => \"))((\""
   ]
  },
  {
   "cell_type": "code",
   "execution_count": 22,
   "metadata": {
    "collapsed": true
   },
   "outputs": [],
   "source": [
    "def duplicate_encode(word):\n",
    "    out = []\n",
    "    word = word.lower()\n",
    "    for i in word:\n",
    "        if word.count(i) == 1:\n",
    "            out.append('(')\n",
    "        elif word.count(i) > 1:\n",
    "            out.append(')')\n",
    "    return ''.join(out)"
   ]
  },
  {
   "cell_type": "code",
   "execution_count": 24,
   "metadata": {
    "collapsed": false
   },
   "outputs": [
    {
     "name": "stdout",
     "output_type": "stream",
     "text": [
      "True\n",
      "True\n",
      "True ...should ignore case\n",
      "True\n"
     ]
    }
   ],
   "source": [
    "print duplicate_encode(\"din\") == \"(((\"\n",
    "print duplicate_encode(\"recede\") == \"()()()\"\n",
    "print duplicate_encode(\"Success\") == \")())())\",\"...should ignore case\"\n",
    "print duplicate_encode(\"(( @\") == \"))((\""
   ]
  },
  {
   "cell_type": "code",
   "execution_count": 5,
   "metadata": {
    "collapsed": true
   },
   "outputs": [],
   "source": [
    "a = [1,2,3,2,1,5,6,5,5,5]\n",
    "seen = set()\n",
    "uniq = [x for x in a if x not in seen and not seen.add(x)]    "
   ]
  },
  {
   "cell_type": "code",
   "execution_count": 7,
   "metadata": {
    "collapsed": false
   },
   "outputs": [
    {
     "name": "stdout",
     "output_type": "stream",
     "text": [
      "set([1, 2, 3, 5, 6])\n",
      "[1, 2, 3, 5, 6]\n"
     ]
    }
   ],
   "source": [
    "print seen\n",
    "print uniq"
   ]
  },
  {
   "cell_type": "code",
   "execution_count": null,
   "metadata": {
    "collapsed": true
   },
   "outputs": [],
   "source": []
  }
 ],
 "metadata": {
  "kernelspec": {
   "display_name": "Python [default]",
   "language": "python",
   "name": "python2"
  },
  "language_info": {
   "codemirror_mode": {
    "name": "ipython",
    "version": 2
   },
   "file_extension": ".py",
   "mimetype": "text/x-python",
   "name": "python",
   "nbconvert_exporter": "python",
   "pygments_lexer": "ipython2",
   "version": "2.7.12"
  }
 },
 "nbformat": 4,
 "nbformat_minor": 0
}
