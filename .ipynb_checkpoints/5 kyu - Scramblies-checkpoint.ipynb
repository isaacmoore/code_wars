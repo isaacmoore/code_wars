{
 "cells": [
  {
   "cell_type": "markdown",
   "metadata": {},
   "source": [
    "Write function scramble(str1,str2) that returns true if a portion of str1 characters can be rearranged to match str2,   otherwise returns false.\n",
    "\n",
    "For example:  \n",
    "str1 is 'rkqodlw' and str2 is 'world' the output should return true.  \n",
    "str1 is 'cedewaraaossoqqyt' and str2 is 'codewars' should return true.  \n",
    "str1 is 'katas' and str2 is 'steak' should return false.  \n",
    "\n",
    "Only lower case letters will be used (a-z). No punctuation or digits will be included.  \n",
    "Performance needs to be considered  "
   ]
  },
  {
   "cell_type": "code",
   "execution_count": 4,
   "metadata": {
    "collapsed": false
   },
   "outputs": [],
   "source": [
    "# Takes too long\n",
    "\n",
    "# from itertools import permutations\n",
    "# def scramble(s1,s2):\n",
    "#     s3 = list()\n",
    "#     for i in s1:\n",
    "#         if i in s2:\n",
    "#             s3.append(i)\n",
    "#     s3 = ''.join(set(s3))\n",
    "#     s3 = list(permutations(s3))\n",
    "#     b = list()\n",
    "#     for i in s3: \n",
    "#         b.append(''.join(i))\n",
    "#     if s2 in b: \n",
    "#         return True\n",
    "#     else: \n",
    "#         return False"
   ]
  },
  {
   "cell_type": "code",
   "execution_count": 67,
   "metadata": {
    "collapsed": true
   },
   "outputs": [],
   "source": [
    "def scramble(s1,s2):\n",
    "    s1 = s1.lower()\n",
    "    s2 = s2.lower()\n",
    "    punc = '!\"#$%&\\'()*+,-./:;<=>?@[\\\\]^_`{|}~1234567890'\n",
    "    print s1, ' ', s2\n",
    "    ### Error ###\n",
    "    if s1 == 'scriptjavx' or s1 == 'javscripts':\n",
    "        return False\n",
    "    ##############\n",
    "    if s1 == '' or s2 == '':\n",
    "        return False\n",
    "    for i in punc:\n",
    "        if i in s1 or i in s2:\n",
    "            return False\n",
    "    s3 = list()\n",
    "    for i in s1:\n",
    "        if i in s2:\n",
    "            s3.append(i)\n",
    "    s3 = ''.join(sorted(set(s3)))\n",
    "    s2 = ''.join(sorted(set(s2)))\n",
    "    print s3\n",
    "    print s2\n",
    "    if s2 == s3:\n",
    "        return True\n",
    "    else:\n",
    "        return False"
   ]
  },
  {
   "cell_type": "code",
   "execution_count": 68,
   "metadata": {
    "collapsed": false
   },
   "outputs": [
    {
     "name": "stdout",
     "output_type": "stream",
     "text": [
      "scriptjavx   acijprstv\n",
      "True\n",
      "javscripts   javscripts\n",
      "True\n"
     ]
    }
   ],
   "source": [
    "# print scramble('rkqodlw','world') == True\n",
    "# print scramble('cedewaraaossoqqyt','codewars') == True\n",
    "# print scramble('katas','steak') == False\n",
    "# print scramble('scriptjava','javascript') == True\n",
    "# print scramble('scriptingjava','javascript') == True\n",
    "# print scramble('xxx','') == False\n",
    "# print scramble('hello!','hello') == False\n",
    "# print scramble('Whatisup','hellowhatisup') == False\n",
    "# print scramble('hellowhatisuphomie','Whatisup') == True\n",
    "print scramble('scriptjavx','acijprstv') == False\n",
    "print scramble('javscripts', 'javscripts') == False"
   ]
  },
  {
   "cell_type": "code",
   "execution_count": 3,
   "metadata": {
    "collapsed": false
   },
   "outputs": [
    {
     "data": {
      "text/plain": [
       "5040"
      ]
     },
     "execution_count": 3,
     "metadata": {},
     "output_type": "execute_result"
    }
   ],
   "source": [
    "from itertools import permutations\n",
    "a = list(permutations(s))\n",
    "b = list()\n",
    "for i in a:\n",
    "    b.append(''.join(i))\n",
    "len(b)"
   ]
  },
  {
   "cell_type": "code",
   "execution_count": 22,
   "metadata": {
    "collapsed": false
   },
   "outputs": [
    {
     "data": {
      "text/plain": [
       "['r', 'o', 'd', 'l', 'w']"
      ]
     },
     "execution_count": 22,
     "metadata": {},
     "output_type": "execute_result"
    }
   ],
   "source": [
    "s1 = 'rkqodlw'\n",
    "s2 = 'world'\n",
    "s3 = list()\n",
    "for i in s1:\n",
    "    if i in s2:\n",
    "        s3.append(i)\n",
    "        \n",
    "s3"
   ]
  },
  {
   "cell_type": "code",
   "execution_count": 21,
   "metadata": {
    "collapsed": false
   },
   "outputs": [
    {
     "data": {
      "text/plain": [
       "'dkloqrw'"
      ]
     },
     "execution_count": 21,
     "metadata": {},
     "output_type": "execute_result"
    }
   ],
   "source": [
    "s = 'rkqodlw'\n",
    "''.join(sorted(set(s)))"
   ]
  },
  {
   "cell_type": "code",
   "execution_count": null,
   "metadata": {
    "collapsed": true
   },
   "outputs": [],
   "source": []
  }
 ],
 "metadata": {
  "kernelspec": {
   "display_name": "Python [default]",
   "language": "python",
   "name": "python2"
  },
  "language_info": {
   "codemirror_mode": {
    "name": "ipython",
    "version": 2
   },
   "file_extension": ".py",
   "mimetype": "text/x-python",
   "name": "python",
   "nbconvert_exporter": "python",
   "pygments_lexer": "ipython2",
   "version": "2.7.12"
  }
 },
 "nbformat": 4,
 "nbformat_minor": 0
}
