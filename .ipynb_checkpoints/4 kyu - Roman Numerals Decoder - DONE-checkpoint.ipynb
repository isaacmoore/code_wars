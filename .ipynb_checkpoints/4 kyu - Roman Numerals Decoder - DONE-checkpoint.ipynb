{
 "cells": [
  {
   "cell_type": "markdown",
   "metadata": {},
   "source": [
    "Create a function that takes a Roman numeral as its argument and returns its value as a numeric decimal integer. You   don't need to validate the form of the Roman numeral.\n",
    "  \n",
    "Modern Roman numerals are written by expressing each decimal digit of the number to be encoded separately, starting   \n",
    "with the leftmost digit and skipping any 0s. So 1990 is rendered \"MCMXC\" (1000 = M, 900 = CM, 90 = XC) and 2008 is r  endered \"MMVIII\" (2000 = MM, 8 = VIII). The Roman numeral for 1666, \"MDCLXVI\", uses each letter in descending order.\n",
    "  \n",
    "Example:  \n",
    "  \n",
    "solution('XXI') # should return 21  \n",
    "C# RomanDecode.Solution(\"XXI\") -- should return 21  \n",
    "  \n",
    "Courtesy of rosettacode.org  "
   ]
  },
  {
   "cell_type": "raw",
   "metadata": {},
   "source": [
    "Symbol   I\tV\tX\tL\tC\tD\tM\n",
    "Value    1\t5\t10\t50\t100\t500\t1,000\n",
    "######################################\n",
    "Number\t    4\t9\t40\t90\t400\t900\n",
    "Notation\tIV\tIX\tXL\tXC\tCD\tCM"
   ]
  },
  {
   "cell_type": "code",
   "execution_count": 74,
   "metadata": {
    "collapsed": false
   },
   "outputs": [],
   "source": [
    "def solution(roman):\n",
    "    \"\"\"complete the solution by transforming the roman numeral into an integer\"\"\"\n",
    "    roman = roman.lower()\n",
    "    numbers = {'i':1,'v':5,'x':10,'l':50,'c':100,'d':500,'m':1000,'iv':4,'ix':9,'xl':40,'xc':90,'cd':400,'cm':900}\n",
    "    check = []\n",
    "    total = 0\n",
    "    for f, b in zip(roman, roman[1:]):\n",
    "        check.append(f + b)\n",
    "#     print check\n",
    "#     print roman\n",
    "#     print 'old:',roman\n",
    "    for n,i in enumerate(check):\n",
    "#         print n, i\n",
    "        if i in numbers.keys():\n",
    "            check.pop(n)\n",
    "            total += numbers[i]\n",
    "            roman = roman.replace(i, \"\")\n",
    "    for i in roman:\n",
    "        total += numbers[i]\n",
    "#     print 'new:',roman\n",
    "    return total"
   ]
  },
  {
   "cell_type": "code",
   "execution_count": 82,
   "metadata": {
    "collapsed": true
   },
   "outputs": [],
   "source": [
    "def solution(roman):\n",
    "    roman = roman.lower()\n",
    "    numbers = {'i':1,'v':5,'x':10,'l':50,'c':100,'d':500,'m':1000,'iv':4,'ix':9,'xl':40,'xc':90,'cd':400,'cm':900}\n",
    "    check = []\n",
    "    total = 0\n",
    "    for f, b in zip(roman, roman[1:]):\n",
    "        check.append(f + b)\n",
    "    for n,i in enumerate(check):\n",
    "        if i in numbers.keys():\n",
    "            check.pop(n)\n",
    "            total += numbers[i]\n",
    "            roman = roman.replace(i, \"\")\n",
    "    for i in roman:\n",
    "        total += numbers[i]\n",
    "    return total"
   ]
  },
  {
   "cell_type": "code",
   "execution_count": 83,
   "metadata": {
    "collapsed": false
   },
   "outputs": [
    {
     "name": "stdout",
     "output_type": "stream",
     "text": [
      "True\n",
      "True\n",
      "True\n",
      "True\n",
      "True\n",
      "True\n",
      "True\n",
      "True\n"
     ]
    }
   ],
   "source": [
    "print solution('III') == 3\n",
    "print solution('IV') == 4\n",
    "print solution('VIII') == 8\n",
    "print solution('XXI') == 21\n",
    "print solution('XCIV') == 94\n",
    "print solution('DCCVII') == 707\n",
    "print solution(\"MCMXC\") == 1990\n",
    "print solution(\"MMVIII\") == 2008"
   ]
  },
  {
   "cell_type": "code",
   "execution_count": null,
   "metadata": {
    "collapsed": true
   },
   "outputs": [],
   "source": []
  }
 ],
 "metadata": {
  "kernelspec": {
   "display_name": "Python [default]",
   "language": "python",
   "name": "python2"
  },
  "language_info": {
   "codemirror_mode": {
    "name": "ipython",
    "version": 2
   },
   "file_extension": ".py",
   "mimetype": "text/x-python",
   "name": "python",
   "nbconvert_exporter": "python",
   "pygments_lexer": "ipython2",
   "version": "2.7.12"
  }
 },
 "nbformat": 4,
 "nbformat_minor": 0
}
