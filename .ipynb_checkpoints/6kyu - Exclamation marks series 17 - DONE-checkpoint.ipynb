{
 "cells": [
  {
   "cell_type": "raw",
   "metadata": {},
   "source": [
    "Description:\n",
    "\n",
    "Each exclamation mark weight is 2; Each question mark weight is 3. Put two string left and right to the balance, Are they balanced?\n",
    "\n",
    "If the left side is more heavy, return \"Left\"; If the right side is more heavy, return \"Right\"; If they are balanced, return \"Balance\"."
   ]
  },
  {
   "cell_type": "code",
   "execution_count": 20,
   "metadata": {
    "collapsed": true
   },
   "outputs": [],
   "source": [
    "def balance(left, right):\n",
    "    l1 = left.replace(\"?\",\"3\").replace(\"!\",\"2\")\n",
    "    #print \"left\", l1\n",
    "    sum_l = sum(int(i) for i in l1)\n",
    "    r1 = right.replace(\"?\",\"3\").replace(\"!\",\"2\")\n",
    "    #print \"right\", r1\n",
    "    sum_r = sum(int(i) for i in r1)\n",
    "    if sum_l > sum_r:\n",
    "        return(\"Left\")\n",
    "    elif sum_l == sum_r:\n",
    "        return(\"Balance\")\n",
    "    else:\n",
    "        return(\"Right\")"
   ]
  },
  {
   "cell_type": "markdown",
   "metadata": {},
   "source": [
    "# Examples"
   ]
  },
  {
   "cell_type": "code",
   "execution_count": 21,
   "metadata": {},
   "outputs": [
    {
     "name": "stdout",
     "output_type": "stream",
     "text": [
      "True\n",
      "True\n",
      "True\n",
      "True\n"
     ]
    }
   ],
   "source": [
    "print balance(\"!!\",\"??\") == \"Right\"\n",
    "print balance(\"!??\",\"?!!\") == \"Left\"\n",
    "print balance(\"!?!!\",\"?!?\") == \"Left\"\n",
    "print balance(\"!!???!????\",\"??!!?!!!!!!!\") == \"Balance\""
   ]
  },
  {
   "cell_type": "code",
   "execution_count": null,
   "metadata": {
    "collapsed": true
   },
   "outputs": [],
   "source": []
  },
  {
   "cell_type": "code",
   "execution_count": null,
   "metadata": {
    "collapsed": true
   },
   "outputs": [],
   "source": []
  },
  {
   "cell_type": "code",
   "execution_count": null,
   "metadata": {
    "collapsed": true
   },
   "outputs": [],
   "source": []
  },
  {
   "cell_type": "code",
   "execution_count": null,
   "metadata": {
    "collapsed": true
   },
   "outputs": [],
   "source": []
  },
  {
   "cell_type": "code",
   "execution_count": null,
   "metadata": {
    "collapsed": true
   },
   "outputs": [],
   "source": []
  },
  {
   "cell_type": "code",
   "execution_count": null,
   "metadata": {
    "collapsed": true
   },
   "outputs": [],
   "source": []
  }
 ],
 "metadata": {
  "kernelspec": {
   "display_name": "Python 2",
   "language": "python",
   "name": "python2"
  },
  "language_info": {
   "codemirror_mode": {
    "name": "ipython",
    "version": 2
   },
   "file_extension": ".py",
   "mimetype": "text/x-python",
   "name": "python",
   "nbconvert_exporter": "python",
   "pygments_lexer": "ipython2",
   "version": "2.7.13"
  }
 },
 "nbformat": 4,
 "nbformat_minor": 2
}
