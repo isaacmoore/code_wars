{
 "cells": [
  {
   "cell_type": "raw",
   "metadata": {},
   "source": [
    "Your task is to make a function that can take any non-negative integer as a argument and return it with it's digits in descending order. Descending order means that you take the highest digit and place the next highest digit immediately after it.\n",
    "\n",
    "Examples:\n",
    "\n",
    "Input: 145263 Output: 654321\n",
    "\n",
    "Input: 1254859723 Output: 9875543221"
   ]
  },
  {
   "cell_type": "code",
   "execution_count": 59,
   "metadata": {
    "collapsed": false
   },
   "outputs": [],
   "source": [
    "def Descending_Order(num):\n",
    "    nums_out = []\n",
    "    if num <= 0:\n",
    "        return 0\n",
    "    else:\n",
    "        for i in str(num):\n",
    "            nums_out.append(i)\n",
    "            nums_out.sort(reverse=True)\n",
    "    return int(''.join(nums_out))"
   ]
  },
  {
   "cell_type": "code",
   "execution_count": 60,
   "metadata": {
    "collapsed": false
   },
   "outputs": [
    {
     "name": "stdout",
     "output_type": "stream",
     "text": [
      "0\n",
      "\n",
      "\n",
      "51\n",
      "\n",
      "\n",
      "987654321\n"
     ]
    }
   ],
   "source": [
    "print Descending_Order(0)#, 0)\n",
    "print '\\n'\n",
    "print Descending_Order(15)#, 51)\n",
    "print '\\n'\n",
    "print Descending_Order(123456789)#, 987654321)"
   ]
  },
  {
   "cell_type": "code",
   "execution_count": null,
   "metadata": {
    "collapsed": true
   },
   "outputs": [],
   "source": []
  },
  {
   "cell_type": "code",
   "execution_count": null,
   "metadata": {
    "collapsed": true
   },
   "outputs": [],
   "source": []
  }
 ],
 "metadata": {
  "kernelspec": {
   "display_name": "Python [default]",
   "language": "python",
   "name": "python2"
  },
  "language_info": {
   "codemirror_mode": {
    "name": "ipython",
    "version": 2
   },
   "file_extension": ".py",
   "mimetype": "text/x-python",
   "name": "python",
   "nbconvert_exporter": "python",
   "pygments_lexer": "ipython2",
   "version": "2.7.12"
  }
 },
 "nbformat": 4,
 "nbformat_minor": 0
}
