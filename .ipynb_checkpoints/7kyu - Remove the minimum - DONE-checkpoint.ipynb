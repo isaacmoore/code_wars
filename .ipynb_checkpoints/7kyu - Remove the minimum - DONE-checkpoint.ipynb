{
 "cells": [
  {
   "cell_type": "raw",
   "metadata": {},
   "source": [
    "The museum of incredible dull things\n",
    "\n",
    "The museum of incredible dull things wants to get rid of some exhibitions. Miriam, the interior architect, comes up with a plan to remove the most boring exhibitions. She gives them a rating, and then removes the one with the lowest rating.\n",
    "\n",
    "However, just as she finished rating all exhibitions, she's off to an important fair, so she asks you to write a program that tells her the ratings of the items after one removed the lowest one. Fair enough.\n",
    "\n",
    "Task\n",
    "\n",
    "Given an array of integers, remove the smallest value. If there are multiple elements with the same value, remove the one with a lower index. If you get an empty array/list, return an empty array/list.\n",
    "\n",
    "Don't change the order of the elements that are left.\n",
    "\n",
    "Examples\n",
    "\n",
    "remove_smallest([1,2,3,4,5]) = [2,3,4,5]\n",
    "remove_smallest([5,3,2,1,4]) = [5,3,2,4]\n",
    "remove_smallest([2,2,1,2,1]) = [2,2,2,1]"
   ]
  },
  {
   "cell_type": "code",
   "execution_count": 30,
   "metadata": {
    "collapsed": true
   },
   "outputs": [],
   "source": [
    "def remove_smallest(numbers):\n",
    "    out = list()\n",
    "    if len(numbers) == 0:\n",
    "        return []\n",
    "    else:\n",
    "        mins = min(numbers)\n",
    "        for i in numbers:\n",
    "            if i == mins:\n",
    "                numbers.remove(mins)\n",
    "                break\n",
    "    return numbers"
   ]
  },
  {
   "cell_type": "code",
   "execution_count": 31,
   "metadata": {
    "collapsed": false
   },
   "outputs": [
    {
     "name": "stdout",
     "output_type": "stream",
     "text": [
      "[2, 3, 4, 5]\n",
      "[5, 3, 2, 4]\n",
      "[2, 3, 1, 1]\n",
      "[]\n"
     ]
    }
   ],
   "source": [
    "print remove_smallest([1, 2, 3, 4, 5])#, [2, 3, 4, 5], \"Wrong result for [1, 2, 3, 4, 5]\")\n",
    "print remove_smallest([5, 3, 2, 1, 4])#, [5, 3, 2, 4], \"Wrong result for [5, 3, 2, 1, 4]\")\n",
    "print remove_smallest([1, 2, 3, 1, 1])#, [2, 3, 1, 1], \"Wrong result for [1, 2, 3, 1, 1]\")\n",
    "print remove_smallest([])#, [], \"Wrong result for []\")"
   ]
  },
  {
   "cell_type": "code",
   "execution_count": null,
   "metadata": {
    "collapsed": true
   },
   "outputs": [],
   "source": []
  }
 ],
 "metadata": {
  "kernelspec": {
   "display_name": "Python [default]",
   "language": "python",
   "name": "python2"
  },
  "language_info": {
   "codemirror_mode": {
    "name": "ipython",
    "version": 2
   },
   "file_extension": ".py",
   "mimetype": "text/x-python",
   "name": "python",
   "nbconvert_exporter": "python",
   "pygments_lexer": "ipython2",
   "version": "2.7.12"
  }
 },
 "nbformat": 4,
 "nbformat_minor": 0
}
