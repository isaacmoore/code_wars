{
 "cells": [
  {
   "cell_type": "raw",
   "metadata": {},
   "source": [
    "Sum of Pairs\n",
    "\n",
    "Given a list of integers and a single sum value, return the first two values (parse from the left please) in order of appearance that add up to form the sum.\n",
    "\n",
    "sum_pairs([11, 3, 7, 5],         10)\n",
    "#              ^--^      3 + 7 = 10\n",
    "== [3, 7]\n",
    "\n",
    "sum_pairs([4, 3, 2, 3, 4],         6)\n",
    "#          ^-----^         4 + 2 = 6, indices: 0, 2 *\n",
    "#             ^-----^      3 + 3 = 6, indices: 1, 3\n",
    "#                ^-----^   2 + 4 = 6, indices: 2, 4\n",
    "#  * entire pair is earlier, and therefore is the correct answer\n",
    "== [4, 2]\n",
    "\n",
    "sum_pairs([0, 0, -2, 3], 2)\n",
    "#  there are no pairs of values that can be added to produce 2.\n",
    "== None/nil/undefined (Based on the language)\n",
    "\n",
    "sum_pairs([10, 5, 2, 3, 7, 5],         10)\n",
    "#              ^-----------^   5 + 5 = 10, indices: 1, 5\n",
    "#                    ^--^      3 + 7 = 10, indices: 3, 4 *\n",
    "#  * entire pair is earlier, and therefore is the correct answer\n",
    "== [3, 7]\n",
    "Negative numbers and duplicate numbers can and will appear.\n",
    "\n",
    "NOTE: There will also be lists tested of lengths upwards of 10,000,000 elements. Be sure your code doesn't time out."
   ]
  },
  {
   "cell_type": "code",
   "execution_count": 1,
   "metadata": {
    "collapsed": true
   },
   "outputs": [],
   "source": [
    "l1= [1, 4, 8, 7, 3, 15]\n",
    "l2= [1, -2, 3, 0, -6, 1]\n",
    "l3= [20, -13, 40]\n",
    "l4= [1, 2, 3, 4, 1, 0]\n",
    "l5= [10, 5, 2, 3, 7, 5]\n",
    "l6= [4, -2, 3, 3, 4]\n",
    "l7= [0, 2, 0]\n",
    "l8= [5, 9, 13, -3]"
   ]
  },
  {
   "cell_type": "code",
   "execution_count": 81,
   "metadata": {
    "collapsed": false
   },
   "outputs": [],
   "source": [
    "def sum_pairs(ints, s):\n",
    "    outs = []\n",
    "    for i in enumerate(ints):\n",
    "        for i2 in enumerate(ints):\n",
    "            if i[1] + i2[1] == s:\n",
    "                outs.append(i)\n",
    "                outs.append(i2)\n",
    "    print outs\n",
    "    if len(outs) == 0:\n",
    "        return None\n",
    "    \n",
    "    for i in outs:\n",
    "        if i[0] > \n",
    "    \n",
    "    return [outs[0][1], outs[1][1]]"
   ]
  },
  {
   "cell_type": "code",
   "execution_count": 82,
   "metadata": {
    "collapsed": false
   },
   "outputs": [
    {
     "name": "stdout",
     "output_type": "stream",
     "text": [
      "list 1: [(0, 1), (3, 7), (1, 4), (1, 4), (3, 7), (0, 1)]\n",
      "True \n",
      "\n",
      "list 2: [(3, 0), (4, -6), (4, -6), (3, 0)]\n",
      "True \n",
      "\n",
      "list 3: []\n",
      "True \n",
      "\n",
      "list 4: [(0, 1), (0, 1), (0, 1), (4, 1), (1, 2), (5, 0), (4, 1), (0, 1), (4, 1), (4, 1), (5, 0), (1, 2)]\n",
      "True \n",
      "\n",
      "list 5: [(1, 5), (1, 5), (1, 5), (5, 5), (3, 3), (4, 7), (4, 7), (3, 3), (5, 5), (1, 5), (5, 5), (5, 5)]\n",
      "False \n",
      "\n",
      "list 6: [(0, 4), (0, 4), (0, 4), (4, 4), (4, 4), (0, 4), (4, 4), (4, 4)]\n",
      "True \n",
      "\n",
      "list 7: [(0, 0), (0, 0), (0, 0), (2, 0), (2, 0), (0, 0), (2, 0), (2, 0)]\n",
      "True \n",
      "\n",
      "list 8: [(0, 5), (0, 5), (2, 13), (3, -3), (3, -3), (2, 13)]\n",
      "False \n",
      "\n"
     ]
    }
   ],
   "source": [
    "print 'list 1:',sum_pairs(l1, 8) == [1, 7],'\\n'#, \"Basic: %s should return [1, 7] for sum = 8\" % l1)\n",
    "print 'list 2:',sum_pairs(l2, -6) == [0, -6],'\\n'#, \"Negatives: %s should return [0, -6] for sum = -6\" % l2)\n",
    "print 'list 3:',sum_pairs(l3, -7) == None,'\\n'#, \"No Match: %s should return None for sum = -7\" % l3)\n",
    "print 'list 4:',sum_pairs(l4, 2) == [1, 1],'\\n'#, \"First Match From Left: %s should return [1, 1] for sum = 2 \" % l4)\n",
    "print 'list 5:',sum_pairs(l5, 10) == [3, 7],'\\n'#, \"First Match From Left REDUX!: %s should return [3, 7] for sum = 10 \" % l5)\n",
    "print 'list 6:',sum_pairs(l6, 8) == [4, 4],'\\n'#, \"Duplicates: %s should return [4, 4] for sum = 8\" % l6)\n",
    "print 'list 7:',sum_pairs(l7, 0) == [0, 0],'\\n'#, \"Zeroes: %s should return [0, 0] for sum = 0\" % l7)\n",
    "print 'list 8:',sum_pairs(l8, 10) == [13, -3],'\\n'#, \"Subtraction: %s should return [13, -3] for sum = 10\" % l8)"
   ]
  },
  {
   "cell_type": "code",
   "execution_count": null,
   "metadata": {
    "collapsed": true
   },
   "outputs": [],
   "source": []
  },
  {
   "cell_type": "code",
   "execution_count": null,
   "metadata": {
    "collapsed": true
   },
   "outputs": [],
   "source": []
  },
  {
   "cell_type": "code",
   "execution_count": null,
   "metadata": {
    "collapsed": true
   },
   "outputs": [],
   "source": []
  },
  {
   "cell_type": "code",
   "execution_count": null,
   "metadata": {
    "collapsed": true
   },
   "outputs": [],
   "source": []
  },
  {
   "cell_type": "code",
   "execution_count": null,
   "metadata": {
    "collapsed": true
   },
   "outputs": [],
   "source": []
  },
  {
   "cell_type": "code",
   "execution_count": null,
   "metadata": {
    "collapsed": true
   },
   "outputs": [],
   "source": []
  },
  {
   "cell_type": "code",
   "execution_count": null,
   "metadata": {
    "collapsed": true
   },
   "outputs": [],
   "source": []
  },
  {
   "cell_type": "code",
   "execution_count": null,
   "metadata": {
    "collapsed": true
   },
   "outputs": [],
   "source": []
  },
  {
   "cell_type": "code",
   "execution_count": null,
   "metadata": {
    "collapsed": true
   },
   "outputs": [],
   "source": []
  }
 ],
 "metadata": {
  "kernelspec": {
   "display_name": "Python [default]",
   "language": "python",
   "name": "python2"
  },
  "language_info": {
   "codemirror_mode": {
    "name": "ipython",
    "version": 2
   },
   "file_extension": ".py",
   "mimetype": "text/x-python",
   "name": "python",
   "nbconvert_exporter": "python",
   "pygments_lexer": "ipython2",
   "version": "2.7.12"
  }
 },
 "nbformat": 4,
 "nbformat_minor": 0
}
