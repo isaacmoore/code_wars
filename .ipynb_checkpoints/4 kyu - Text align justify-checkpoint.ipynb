{
 "cells": [
  {
   "cell_type": "raw",
   "metadata": {},
   "source": [
    "Your task in this Kata is to emulate text justification in monospace font. You will be given a single-lined text and the expected justification width. The longest word will never be greater than this width.\n",
    "\n",
    "Here are the rules:\n",
    "\n",
    "Use spaces to fill in the gaps between words.\n",
    "Each line should contain as many words as possible.\n",
    "Use '\\n' to separate lines.\n",
    "Gap between words can't differ by more than one space.\n",
    "Lines should end with a word not a space.\n",
    "'\\n' is not included in the length of a line.\n",
    "Large gaps go first, then smaller ones: 'Lorem---ipsum---dolor--sit--amet' (3, 3, 2, 2 spaces).\n",
    "Last line should not be justified, use only one space between words.\n",
    "Last line should not contain '\\n'\n",
    "Strings with one word do not need gaps ('somelongword\\n').\n",
    "Example with width=30:\n",
    "\n",
    "Lorem  ipsum  dolor  sit amet,  \n",
    "consectetur  adipiscing  elit.  \n",
    "Vestibulum    sagittis   dolor  \n",
    "mauris,  at  elementum  ligula  \n",
    "tempor  eget.  In quis rhoncus  \n",
    "nunc,  at  aliquet orci. Fusce  \n",
    "at   dolor   sit   amet  felis  \n",
    "suscipit   tristique.   Nam  a  \n",
    "imperdiet   tellus.  Nulla  eu  \n",
    "vestibulum    urna.    Vivamus  \n",
    "tincidunt  suscipit  enim, nec  \n",
    "ultrices   nisi  volutpat  ac.  \n",
    "Maecenas   sit   amet  lacinia  \n",
    "arcu,  non dictum justo. Donec  \n",
    "sed  quam  vel  risus faucibus  \n",
    "euismod.  Suspendisse  rhoncus  \n",
    "rhoncus  felis  at  fermentum.  \n",
    "Donec lorem magna, ultricies a  \n",
    "nunc    sit    amet,   blandit  \n",
    "fringilla  nunc. In vestibulum  \n",
    "velit    ac    felis   rhoncus  \n",
    "pellentesque. Mauris at tellus  \n",
    "enim.  Aliquam eleifend tempus  \n",
    "dapibus. Pellentesque commodo,  \n",
    "nisi    sit   amet   hendrerit  \n",
    "fringilla,   ante  odio  porta  \n",
    "lacus,   ut   elementum  justo  \n",
    "nulla et dolor.  \n",
    "\n",
    "Also you can always take a look at how justification works in your text editor or directly in HTML (css: text-align: justify).\n",
    "\n",
    "Have fun :)"
   ]
  },
  {
   "cell_type": "code",
   "execution_count": 81,
   "metadata": {
    "collapsed": true
   },
   "outputs": [],
   "source": [
    "lorem = \"Lorem ipsum dolor sit amet, consectetur adipiscing elit, sed do eiusmod tempor incididunt ut labore et dolore\\\n",
    "magna aliqua. Ut enim ad minim veniam, quis nostrud exercitation ullamco laboris nisi ut aliquip ex ea commodo consequat.\\\n",
    "Duis aute irure dolor in reprehenderit in voluptate velit esse cillum dolore eu fugiat nulla pariatur. Excepteur sint \\\n",
    "occaecat cupidatat non proident, sunt in culpa qui officia deserunt mollit anim id est laborum.\""
   ]
  },
  {
   "cell_type": "code",
   "execution_count": 115,
   "metadata": {
    "collapsed": false
   },
   "outputs": [
    {
     "data": {
      "text/plain": [
       "443"
      ]
     },
     "execution_count": 115,
     "metadata": {},
     "output_type": "execute_result"
    }
   ],
   "source": [
    "len(lorem)"
   ]
  },
  {
   "cell_type": "code",
   "execution_count": 112,
   "metadata": {
    "collapsed": false
   },
   "outputs": [
    {
     "data": {
      "text/plain": [
       "[7, 14, 21, 28, 35, 42, 49, 56, 63, 70, 77, 84, 91]"
      ]
     },
     "execution_count": 112,
     "metadata": {},
     "output_type": "execute_result"
    }
   ],
   "source": [
    "width_test = list()\n",
    "for i in range(1,len(lorem)/30):\n",
    "    width_test.append(i*7)\n",
    "width_test"
   ]
  },
  {
   "cell_type": "code",
   "execution_count": 123,
   "metadata": {
    "collapsed": false
   },
   "outputs": [],
   "source": [
    "def justify(text, width):\n",
    "    width_multiples = []\n",
    "    for i in range(1,(int(round(len(text)/width)))):\n",
    "        width_multiples.append(i * width)\n",
    "    outs = []\n",
    "    txt = []\n",
    "    for i in text:\n",
    "        txt.append(i)\n",
    "    for i in enumerate(txt[:20]):\n",
    "        if i[1] in width_multiples:\n",
    "            print i[0]"
   ]
  },
  {
   "cell_type": "code",
   "execution_count": 124,
   "metadata": {
    "collapsed": false
   },
   "outputs": [],
   "source": [
    "justify(lorem, 30)"
   ]
  },
  {
   "cell_type": "code",
   "execution_count": 10,
   "metadata": {
    "collapsed": false
   },
   "outputs": [
    {
     "data": {
      "text/plain": [
       "False"
      ]
     },
     "execution_count": 10,
     "metadata": {},
     "output_type": "execute_result"
    }
   ],
   "source": [
    "justify('123 45 6', 7) ==  '123 45\\n6'"
   ]
  },
  {
   "cell_type": "code",
   "execution_count": null,
   "metadata": {
    "collapsed": true
   },
   "outputs": [],
   "source": []
  },
  {
   "cell_type": "code",
   "execution_count": null,
   "metadata": {
    "collapsed": true
   },
   "outputs": [],
   "source": []
  },
  {
   "cell_type": "code",
   "execution_count": null,
   "metadata": {
    "collapsed": true
   },
   "outputs": [],
   "source": []
  },
  {
   "cell_type": "code",
   "execution_count": null,
   "metadata": {
    "collapsed": true
   },
   "outputs": [],
   "source": []
  },
  {
   "cell_type": "code",
   "execution_count": null,
   "metadata": {
    "collapsed": true
   },
   "outputs": [],
   "source": []
  },
  {
   "cell_type": "code",
   "execution_count": null,
   "metadata": {
    "collapsed": true
   },
   "outputs": [],
   "source": []
  },
  {
   "cell_type": "code",
   "execution_count": null,
   "metadata": {
    "collapsed": true
   },
   "outputs": [],
   "source": []
  },
  {
   "cell_type": "code",
   "execution_count": null,
   "metadata": {
    "collapsed": true
   },
   "outputs": [],
   "source": []
  },
  {
   "cell_type": "code",
   "execution_count": null,
   "metadata": {
    "collapsed": true
   },
   "outputs": [],
   "source": []
  },
  {
   "cell_type": "code",
   "execution_count": null,
   "metadata": {
    "collapsed": true
   },
   "outputs": [],
   "source": []
  },
  {
   "cell_type": "code",
   "execution_count": null,
   "metadata": {
    "collapsed": true
   },
   "outputs": [],
   "source": []
  },
  {
   "cell_type": "code",
   "execution_count": null,
   "metadata": {
    "collapsed": true
   },
   "outputs": [],
   "source": []
  },
  {
   "cell_type": "code",
   "execution_count": null,
   "metadata": {
    "collapsed": true
   },
   "outputs": [],
   "source": []
  },
  {
   "cell_type": "code",
   "execution_count": null,
   "metadata": {
    "collapsed": true
   },
   "outputs": [],
   "source": []
  },
  {
   "cell_type": "code",
   "execution_count": null,
   "metadata": {
    "collapsed": true
   },
   "outputs": [],
   "source": []
  },
  {
   "cell_type": "code",
   "execution_count": null,
   "metadata": {
    "collapsed": true
   },
   "outputs": [],
   "source": []
  },
  {
   "cell_type": "code",
   "execution_count": null,
   "metadata": {
    "collapsed": true
   },
   "outputs": [],
   "source": []
  },
  {
   "cell_type": "code",
   "execution_count": null,
   "metadata": {
    "collapsed": true
   },
   "outputs": [],
   "source": []
  },
  {
   "cell_type": "code",
   "execution_count": null,
   "metadata": {
    "collapsed": true
   },
   "outputs": [],
   "source": []
  },
  {
   "cell_type": "code",
   "execution_count": null,
   "metadata": {
    "collapsed": true
   },
   "outputs": [],
   "source": []
  },
  {
   "cell_type": "code",
   "execution_count": null,
   "metadata": {
    "collapsed": true
   },
   "outputs": [],
   "source": []
  },
  {
   "cell_type": "code",
   "execution_count": null,
   "metadata": {
    "collapsed": true
   },
   "outputs": [],
   "source": []
  },
  {
   "cell_type": "code",
   "execution_count": null,
   "metadata": {
    "collapsed": true
   },
   "outputs": [],
   "source": []
  },
  {
   "cell_type": "code",
   "execution_count": null,
   "metadata": {
    "collapsed": true
   },
   "outputs": [],
   "source": []
  }
 ],
 "metadata": {
  "kernelspec": {
   "display_name": "Python [default]",
   "language": "python",
   "name": "python2"
  },
  "language_info": {
   "codemirror_mode": {
    "name": "ipython",
    "version": 2
   },
   "file_extension": ".py",
   "mimetype": "text/x-python",
   "name": "python",
   "nbconvert_exporter": "python",
   "pygments_lexer": "ipython2",
   "version": "2.7.12"
  }
 },
 "nbformat": 4,
 "nbformat_minor": 0
}
