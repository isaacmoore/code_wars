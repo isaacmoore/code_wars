{
 "cells": [
  {
   "cell_type": "raw",
   "metadata": {},
   "source": [
    "Longest Palindrome\n",
    "\n",
    "Find the length of the longest substring in the given string s that is the same in reverse.\n",
    "\n",
    "As an example, if the input was “I like racecars that go fast”, the substring (racecar) length would be 7.\n",
    "\n",
    "If the length of the input string is 0, return value must be 0.\n",
    "\n",
    "Example:\n",
    "\n",
    "\"a\" -> 1 \n",
    "\"aab\" -> 2  \n",
    "\"abcde\" -> 1\n",
    "\"zzbaabcd\" -> 4\n",
    "\"\" -> 0"
   ]
  },
  {
   "cell_type": "code",
   "execution_count": 71,
   "metadata": {
    "collapsed": false
   },
   "outputs": [],
   "source": [
    "def longest_palindrome(s):\n",
    "    if len(s) == 0:\n",
    "        return 0\n",
    "    elif len(s) == 1:\n",
    "        return 1\n",
    "    else:\n",
    "        out = []\n",
    "        rev = s[::-1]\n",
    "#         print rev\n",
    "        for i in range(len(s)+1):\n",
    "            print i\n",
    "            if s[:i] in rev:\n",
    "                out.append(s[:i])\n",
    "                print s[:i]\n",
    "        return len(out[-1])"
   ]
  },
  {
   "cell_type": "code",
   "execution_count": 72,
   "metadata": {
    "collapsed": false
   },
   "outputs": [
    {
     "name": "stdout",
     "output_type": "stream",
     "text": [
      "0\n",
      "\n",
      "1\n",
      "b\n",
      "2\n",
      "ba\n",
      "3\n",
      "baa\n",
      "4\n",
      "baab\n",
      "5\n",
      "6\n",
      "7\n",
      "8\n",
      "9\n",
      "10\n",
      "11\n",
      "12\n",
      "13\n",
      "14\n",
      "15\n",
      "16\n",
      "17\n",
      "18\n",
      "19\n",
      "4 \n",
      "\n"
     ]
    }
   ],
   "source": [
    "# print longest_palindrome(\"a\"),'\\n'#, 1)\n",
    "# print longest_palindrome(\"aa\"),'\\n'#, 2)\n",
    "# print longest_palindrome(\"baa\"),'\\n'#, 2)\n",
    "# print longest_palindrome(\"aab\"),'\\n'#, 2)\n",
    "# print longest_palindrome(\"abcdefghba\"),'\\n'#, 1)\n",
    "print longest_palindrome(\"baablkj12345432133d\"),'\\n'#, 9)"
   ]
  },
  {
   "cell_type": "code",
   "execution_count": 27,
   "metadata": {
    "collapsed": false
   },
   "outputs": [
    {
     "name": "stdout",
     "output_type": "stream",
     "text": [
      "0 \n",
      "1 H\n",
      "2 He\n",
      "3 Hel\n",
      "4 Hell\n"
     ]
    }
   ],
   "source": [
    "a = 'Hello'\n",
    "for i in range(len(a)):\n",
    "    print i, a[:i]"
   ]
  },
  {
   "cell_type": "code",
   "execution_count": null,
   "metadata": {
    "collapsed": true
   },
   "outputs": [],
   "source": []
  },
  {
   "cell_type": "code",
   "execution_count": null,
   "metadata": {
    "collapsed": true
   },
   "outputs": [],
   "source": []
  },
  {
   "cell_type": "code",
   "execution_count": null,
   "metadata": {
    "collapsed": true
   },
   "outputs": [],
   "source": []
  },
  {
   "cell_type": "code",
   "execution_count": null,
   "metadata": {
    "collapsed": true
   },
   "outputs": [],
   "source": []
  },
  {
   "cell_type": "code",
   "execution_count": null,
   "metadata": {
    "collapsed": true
   },
   "outputs": [],
   "source": []
  }
 ],
 "metadata": {
  "kernelspec": {
   "display_name": "Python [default]",
   "language": "python",
   "name": "python2"
  },
  "language_info": {
   "codemirror_mode": {
    "name": "ipython",
    "version": 2
   },
   "file_extension": ".py",
   "mimetype": "text/x-python",
   "name": "python",
   "nbconvert_exporter": "python",
   "pygments_lexer": "ipython2",
   "version": "2.7.12"
  }
 },
 "nbformat": 4,
 "nbformat_minor": 0
}
