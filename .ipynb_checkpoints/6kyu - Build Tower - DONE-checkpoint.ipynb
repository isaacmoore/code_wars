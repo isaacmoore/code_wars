{
 "cells": [
  {
   "cell_type": "raw",
   "metadata": {},
   "source": [
    "Build Tower by the following given argument:\n",
    "number of floors (integer and always greater than 0).\n",
    "\n",
    "Tower block is represented as *\n",
    "\n",
    "Python: return a list;\n",
    "JavaScript: returns an Array;\n",
    "C#: returns a string[];\n",
    "PHP: returns an array;\n",
    "C++: returns a vector<string>;\n",
    "Have fun!\n",
    "\n",
    "[\n",
    "  '  *  ', \n",
    "  ' *** ', \n",
    "  '*****'\n",
    "]\n",
    "\n",
    "[\n",
    "  '     *     ', \n",
    "  '    ***    ', \n",
    "  '   *****   ', \n",
    "  '  *******  ', \n",
    "  ' ********* ', \n",
    "  '***********'\n",
    "]"
   ]
  },
  {
   "cell_type": "code",
   "execution_count": 46,
   "metadata": {
    "collapsed": false
   },
   "outputs": [],
   "source": [
    "def tower_builder(n_floors):\n",
    "    outs = []\n",
    "#     if n_floors == 1:\n",
    "#         return ['*', ]\n",
    "    lvl = range(1,n_floors*2,2)\n",
    "#     print lvl\n",
    "    for i in lvl:\n",
    "        outs.append('*'*i)\n",
    "    return outs"
   ]
  },
  {
   "cell_type": "code",
   "execution_count": 195,
   "metadata": {
    "collapsed": false
   },
   "outputs": [],
   "source": [
    "def tower_builder(n_floors):\n",
    "    tmp = []\n",
    "    outs = []\n",
    "    lvl = range(1,n_floors*2,2)\n",
    "    if n_floors == 1:\n",
    "        return ['*']\n",
    "    for i in lvl:\n",
    "        tmp.append('*'*i)\n",
    "    tmp = list(reversed(tmp))\n",
    "#     print tmp\n",
    "    for i in reversed(range(len(lvl))):\n",
    "        outs.append(' '*i + tmp[i] + ' '*i)\n",
    "#     print outs\n",
    "#     outs.append(tmp[-1])\n",
    "#     print outs\n",
    "    return outs"
   ]
  },
  {
   "cell_type": "code",
   "execution_count": 206,
   "metadata": {
    "collapsed": false
   },
   "outputs": [],
   "source": [
    "def tower_builder(n_floors):\n",
    "    tmp = []\n",
    "    outs = []\n",
    "    lvl = range(1,n_floors*2,2)\n",
    "    for i in lvl:\n",
    "        tmp.append('*'*i)\n",
    "    tmp = list(reversed(tmp))\n",
    "    for i in reversed(range(len(lvl))):\n",
    "        outs.append(' '*i + tmp[i] + ' '*i)\n",
    "    return outs"
   ]
  },
  {
   "cell_type": "code",
   "execution_count": 211,
   "metadata": {
    "collapsed": false
   },
   "outputs": [],
   "source": [
    "def tower_builder(n_floors):\n",
    "    tmp = []\n",
    "    outs = []\n",
    "    lvl = range(1,n_floors*2,2)\n",
    "    for i in lvl:\n",
    "        tmp.append('*'*i)\n",
    "    tmp = list(reversed(tmp))\n",
    "    for i in reversed(range(len(lvl))):\n",
    "        outs.append(' '*i + tmp[i] + ' '*i)\n",
    "    return outs"
   ]
  },
  {
   "cell_type": "code",
   "execution_count": 212,
   "metadata": {
    "collapsed": false
   },
   "outputs": [
    {
     "name": "stdout",
     "output_type": "stream",
     "text": [
      "True\n",
      "True\n",
      "True\n"
     ]
    }
   ],
   "source": [
    "# All cases should return True\n",
    "print tower_builder(1) ==  ['*', ]\n",
    "print tower_builder(2) ==  [' * ', '***']\n",
    "print tower_builder(3) ==  ['  *  ', ' *** ', '*****']"
   ]
  },
  {
   "cell_type": "raw",
   "metadata": {
    "collapsed": false
   },
   "source": [
    "def tower_builder(n_floors):\n",
    "    return ['*'*i for i in range(1,n_floors*2,2)]"
   ]
  },
  {
   "cell_type": "code",
   "execution_count": null,
   "metadata": {
    "collapsed": true
   },
   "outputs": [],
   "source": []
  }
 ],
 "metadata": {
  "kernelspec": {
   "display_name": "Python [default]",
   "language": "python",
   "name": "python2"
  },
  "language_info": {
   "codemirror_mode": {
    "name": "ipython",
    "version": 2
   },
   "file_extension": ".py",
   "mimetype": "text/x-python",
   "name": "python",
   "nbconvert_exporter": "python",
   "pygments_lexer": "ipython2",
   "version": "2.7.12"
  }
 },
 "nbformat": 4,
 "nbformat_minor": 0
}
