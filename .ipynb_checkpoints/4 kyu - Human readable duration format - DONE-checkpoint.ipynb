{
 "cells": [
  {
   "cell_type": "markdown",
   "metadata": {},
   "source": [
    "Your task in order to complete this Kata is to write a function which formats a duration, given as a number of seconds, in a human-friendly way.  \n",
    "  \n",
    "The function must accept a non-negative integer. If it is zero, it just returns \"now\". Otherwise, the duration is expressed as a combination of years, days, hours, minutes and seconds.  \n",
    "  \n",
    "It is much easier to understand with an example:  \n",
    "  \n",
    ">  format_duration(62)    # returns \"1 minute and 2 seconds\"  \n",
    ">  format_duration(3662)  # returns \"1 hour, 1 minute and 2 seconds\"  \n",
    "\n",
    "Note that spaces are important.  \n",
    "  \n",
    "**Detailed rules**\n",
    "  \n",
    "The resulting expression is made of components like 4 seconds, 1 year, etc. In general, a positive integer and one of the valid units of time, separated by a space. The unit of time is used in plural if the integer is greater than 1.  \n",
    "  \n",
    "The components are separated by a comma and a space (\", \"). Except the last component, which is separated by \" and \", just like it would be written in English.  \n",
    "  \n",
    "A more significant units of time will occur before than a least significant one. Therefore, 1 second and 1 year is not correct, but 1 year and 1 second is.  \n",
    "  \n",
    "Different components have different unit of times. So there is not repeated units like in 5 seconds and 1 second.  \n",
    "  \n",
    "A component will not appear at all if its value happens to be zero. Hence, 1 minute and 0 seconds is not valid, but it should be just 1 minute.  \n",
    "  \n",
    "A unit of time must be used \"as much as possible\". It means that the function should not return 61 seconds, but 1 minute and 1 second instead. Formally, the duration specified by of a component must not be greater than any valid more significant unit of time.  \n",
    "  \n",
    "For the purpose of this Kata, a year is 365 days and a day is 24 hours.  "
   ]
  },
  {
   "cell_type": "code",
   "execution_count": 36,
   "metadata": {
    "collapsed": false
   },
   "outputs": [],
   "source": [
    "def format_duration(seconds): \n",
    "    if seconds == 0:\n",
    "        return 'now'\n",
    "    elif seconds < 60:\n",
    "        return str(seconds) + ' second'\n",
    "    elif seconds >= 60 and seconds < 3600:\n",
    "        minutes = int(round(seconds / 60))\n",
    "        seconds = seconds % 60 \n",
    "        if seconds == 0:\n",
    "            return str(minutes) + ' minutes'\n",
    "        else: \n",
    "            return str(minutes) + ' minute and '+ str(seconds) + ' seconds'\n",
    "    elif seconds >= 3600 and seconds < 86400:\n",
    "        minutes = int(round(seconds / 60))\n",
    "        hours = int(round(minutes / 60))\n",
    "        minutes = minutes - 60\n",
    "        seconds = seconds % 60 \n",
    "        if seconds == 0:\n",
    "            return str(hours) + ' hour'\n",
    "        else: \n",
    "            return str(hours) + ' hour, ' + str(minutes) + ' minute and '+ str(seconds) + ' seconds'\n",
    "    elif seconds >= 86400 and seconds < 31536000:\n",
    "        minutes = int(round(seconds / 60))\n",
    "        hours = int(round(minutes / 60))\n",
    "        days = hours / 24\n",
    "        hours = hours % 24\n",
    "        minutes = minutes % 60\n",
    "        hours = hours % 60\n",
    "        if seconds == 0:\n",
    "            return str(days) + ' days'\n",
    "        else: \n",
    "            return str(days) + ' days, ' + str(hours) + ' hour, ' + str(minutes) + ' minutes and '+ str(seconds % 60) + ' seconds'\n",
    "    elif seconds >= 31536000:\n",
    "        minutes = int(round(seconds / 60))\n",
    "        hours = int(round(minutes / 60))\n",
    "        days = hours / 24\n",
    "        years = days / 365\n",
    "        days = days % 365\n",
    "        hours = hours % 24\n",
    "        minutes = minutes % 60\n",
    "        hours = hours % 60\n",
    "        seconds = seconds % 60\n",
    "        if seconds == 0:\n",
    "            return str(years) + ' years, ' + str(days) + ' days, ' + str(hours) + ' hours and ' + str(minutes) + ' minutes'\n",
    "        elif seconds == 1: \n",
    "            return str(years) + ' years, ' + str(days) + ' days, ' + str(hours) + ' hours, ' + str(minutes) + ' minutes and '+ str(seconds) + ' second'\n",
    "        elif hours == 1: \n",
    "            return str(years) + ' years, ' + str(days) + ' days, ' + str(hours) + ' hour, ' + str(minutes) + ' minutes and '+ str(seconds) + ' seconds'\n",
    "        elif years == 1: \n",
    "            return str(years) + ' year, ' + str(days) + ' days, ' + str(hours) + ' hours, ' + str(minutes) + ' minutes and '+ str(seconds) + ' seconds'\n",
    "        else: \n",
    "            return str(years) + ' years, ' + str(days) + ' days, ' + str(hours) + ' hours, ' + str(minutes) + ' minutes and '+ str(seconds) + ' seconds'"
   ]
  },
  {
   "cell_type": "code",
   "execution_count": 37,
   "metadata": {
    "collapsed": false
   },
   "outputs": [
    {
     "name": "stdout",
     "output_type": "stream",
     "text": [
      "now\n",
      "1 second\n",
      "1 minute and 2 seconds\n",
      "2 minutes\n",
      "1 hour\n",
      "1 hour, 1 minute and 2 seconds\n",
      "182 days, 1 hour, 26 minutes and 40 seconds\n",
      "4 years, 67 days, 18 hours and 40 minutes\n"
     ]
    }
   ],
   "source": [
    "print format_duration(0)\n",
    "print format_duration(1)\n",
    "print format_duration(62)\n",
    "print format_duration(120)\n",
    "print format_duration(3600)\n",
    "print format_duration(3662)\n",
    "print format_duration(15730000)\n",
    "print format_duration(132000000)"
   ]
  },
  {
   "cell_type": "code",
   "execution_count": 25,
   "metadata": {
    "collapsed": false
   },
   "outputs": [
    {
     "name": "stdout",
     "output_type": "stream",
     "text": [
      "True\n",
      "True\n",
      "True\n",
      "True\n",
      "True\n",
      "True\n",
      "False\n"
     ]
    }
   ],
   "source": [
    "print format_duration(1) == \"1 second\"\n",
    "print format_duration(62) == \"1 minute and 2 seconds\"\n",
    "print format_duration(120) == \"2 minutes\"\n",
    "print format_duration(3600) == \"1 hour\"\n",
    "print format_duration(3662) == \"1 hour, 1 minute and 2 seconds\"\n",
    "print format_duration(15730000) == '182 days, 1 hour, 26 minutes and 40 seconds'\n",
    "print format_duration(132000000) == '4 years, 68 days, 18 hours and 40 minutes'"
   ]
  },
  {
   "cell_type": "code",
   "execution_count": 144,
   "metadata": {
    "collapsed": false
   },
   "outputs": [
    {
     "name": "stdout",
     "output_type": "stream",
     "text": [
      "years: 0 \n",
      "days: 0 \n",
      "hours: 1 \n",
      "minutes: 72 \n",
      "seconds: 4369\n"
     ]
    }
   ],
   "source": [
    "seconds = 4369\n",
    "minutes = seconds / 60\n",
    "hours = minutes / 60\n",
    "days = hours / 24\n",
    "years = days / 365\n",
    "# days = hours % 24\n",
    "# hours = minutes % 60\n",
    "# minutes = seconds % 60\n",
    "print 'years:', years, '\\ndays:', days, '\\nhours:', hours, '\\nminutes:', minutes, '\\nseconds:', seconds"
   ]
  },
  {
   "cell_type": "code",
   "execution_count": 43,
   "metadata": {
    "collapsed": false
   },
   "outputs": [
    {
     "data": {
      "text/plain": [
       "1"
      ]
     },
     "execution_count": 43,
     "metadata": {},
     "output_type": "execute_result"
    }
   ],
   "source": [
    "int(round(62 / 60))"
   ]
  },
  {
   "cell_type": "code",
   "execution_count": 31,
   "metadata": {
    "collapsed": false
   },
   "outputs": [],
   "source": [
    "def format_duration2(seconds):\n",
    "    if seconds == 0:\n",
    "        return 'now'\n",
    "    m, s = divmod(seconds, 60)\n",
    "    h, m = divmod(m, 60)\n",
    "    d, h = divmod(h, 24)\n",
    "    y, d = divmod(d, 365)\n",
    "    return \"%d years, %d days, %d hours, %02d minutes, and %02d seconds\" % (y, d, h, m, s)"
   ]
  },
  {
   "cell_type": "code",
   "execution_count": 33,
   "metadata": {
    "collapsed": false
   },
   "outputs": [
    {
     "name": "stdout",
     "output_type": "stream",
     "text": [
      "0 years, 0 days, 0 hours, 00 minutes, and 01 seconds\n",
      "0 years, 0 days, 0 hours, 01 minutes, and 02 seconds\n",
      "0 years, 0 days, 0 hours, 02 minutes, and 00 seconds\n",
      "0 years, 0 days, 1 hours, 00 minutes, and 00 seconds\n",
      "0 years, 0 days, 1 hours, 01 minutes, and 02 seconds\n",
      "0 years, 182 days, 1 hours, 26 minutes, and 40 seconds\n",
      "4 years, 67 days, 18 hours, 40 minutes, and 00 seconds\n"
     ]
    }
   ],
   "source": [
    "print format_duration2(1)\n",
    "print format_duration2(62)\n",
    "print format_duration2(120)\n",
    "print format_duration2(3600)\n",
    "print format_duration2(3662)\n",
    "print format_duration2(15730000) \n",
    "print format_duration2(132000000)"
   ]
  },
  {
   "cell_type": "code",
   "execution_count": 32,
   "metadata": {
    "collapsed": false
   },
   "outputs": [
    {
     "name": "stdout",
     "output_type": "stream",
     "text": [
      "False\n",
      "False\n",
      "False\n",
      "False\n",
      "False\n",
      "False\n",
      "False\n"
     ]
    }
   ],
   "source": [
    "print format_duration2(1) == \"1 second\"\n",
    "print format_duration2(62) == \"1 minute and 2 seconds\"\n",
    "print format_duration2(120) == \"2 minutes\"\n",
    "print format_duration2(3600) == \"1 hour\"\n",
    "print format_duration2(3662) == \"1 hour, 1 minute and 2 seconds\"\n",
    "print format_duration2(15730000) == '182 days, 1 hour, 26 minutes and 40 seconds'\n",
    "print format_duration2(132000000) == '4 years, 68 days, 18 hours and 40 minutes'"
   ]
  },
  {
   "cell_type": "code",
   "execution_count": null,
   "metadata": {
    "collapsed": true
   },
   "outputs": [],
   "source": []
  },
  {
   "cell_type": "code",
   "execution_count": null,
   "metadata": {
    "collapsed": true
   },
   "outputs": [],
   "source": []
  }
 ],
 "metadata": {
  "kernelspec": {
   "display_name": "Python [default]",
   "language": "python",
   "name": "python2"
  },
  "language_info": {
   "codemirror_mode": {
    "name": "ipython",
    "version": 2
   },
   "file_extension": ".py",
   "mimetype": "text/x-python",
   "name": "python",
   "nbconvert_exporter": "python",
   "pygments_lexer": "ipython2",
   "version": "2.7.12"
  }
 },
 "nbformat": 4,
 "nbformat_minor": 0
}
